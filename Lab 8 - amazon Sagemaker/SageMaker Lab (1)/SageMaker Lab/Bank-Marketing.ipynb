{
 "cells": [
  {
   "cell_type": "code",
   "execution_count": 1,
   "id": "fdcac9d1",
   "metadata": {
    "ExecuteTime": {
     "end_time": "2023-12-10T14:49:31.762220604Z",
     "start_time": "2023-12-10T14:49:31.626715036Z"
    }
   },
   "outputs": [],
   "source": [
    "import warnings, requests, zipfile, io\n",
    "warnings.simplefilter('ignore')\n",
    "import pandas as pd\n",
    "import os"
   ]
  },
  {
   "cell_type": "code",
   "execution_count": 2,
   "id": "e9f269f9",
   "metadata": {
    "ExecuteTime": {
     "end_time": "2023-12-10T14:49:39.694792242Z",
     "start_time": "2023-12-10T14:49:31.754237581Z"
    }
   },
   "outputs": [],
   "source": [
    "f_zip = 'https://archive.ics.uci.edu/ml/machine-learning-databases/00222/bank-additional.zip'\n",
    "r = requests.get(f_zip, stream=True)\n",
    "Vertebral_zip = zipfile.ZipFile(io.BytesIO(r.content))\n",
    "Vertebral_zip.extractall()"
   ]
  },
  {
   "cell_type": "markdown",
   "id": "47a6c84c",
   "metadata": {},
   "source": [
    "## loading data \n",
    "Ce dataset décrit un problème de classification binaire : un client acceptera-t-il une offre marketing, oui ou non ? Il contient un peu plus de 41 000 échantillons clients étiquetés.\n",
    "\n",
    "D'après de la description officielle du dataset - https://archive.ics.uci.edu/ml/datasets/Bank+Marketing \n",
    "ci-dessous la liste des variables que ce dataset contient: \n",
    "Input variables:\n",
    "\n",
    "    1. age (numeric)\n",
    "    2. job : type of job (categorical: 'admin.','blue-collar','entrepreneur','housemaid','management','retired','self-employed','services','student','technician','unemployed','unknown')\n",
    "    3. marital : marital status (categorical: 'divorced','married','single','unknown'; note: 'divorced' means divorced or widowed)\n",
    "    4. education (categorical: 'basic.4y','basic.6y','basic.9y','high.school','illiterate','professional.course','university.degree','unknown')\n",
    "    5. default: has credit in default? (categorical: 'no','yes','unknown')\n",
    "    6. housing: has housing loan? (categorical: 'no','yes','unknown')\n",
    "    7. loan: has personal loan? (categorical: 'no','yes','unknown')\n",
    "    8. contact: contact communication type (categorical: 'cellular','telephone')\n",
    "    9. month: last contact month of year (categorical: 'jan', 'feb', 'mar', ..., 'nov', 'dec')\n",
    "    10. day_of_week: last contact day of the week (categorical: 'mon','tue','wed','thu','fri')\n",
    "    11. duration: last contact duration, in seconds (numeric). Important note: this attribute highly affects the output target (e.g., if duration=0 then y='no'). Yet, the duration is not known before a call is performed. Also, after the end of the call y is obviously known. Thus, this input should only be included for benchmark purposes and should be discarded if the intention is to have a realistic predictive model.\n",
    "    12. campaign: number of contacts performed during this campaign and for this client (numeric, includes last contact)\n",
    "    13. pdays: number of days that passed by after the client was last contacted from a previous campaign (numeric; 999 means client was not previously contacted)\n",
    "    14. previous: number of contacts performed before this campaign and for this client (numeric)\n",
    "    15. poutcome: outcome of the previous marketing campaign (categorical: 'failure','nonexistent','success')\n",
    "\n",
    "Output variable (desired target):\n",
    "\n",
    "    21. y. has the client subscribed a term deposit? (binary: 'yes','no')\n",
    "    \n"
   ]
  },
  {
   "cell_type": "code",
   "execution_count": 3,
   "id": "0fcbc5ed",
   "metadata": {
    "ExecuteTime": {
     "end_time": "2023-12-10T14:49:39.962884052Z",
     "start_time": "2023-12-10T14:49:39.700764884Z"
    }
   },
   "outputs": [],
   "source": [
    "df=pd.read_csv('bank-additional/bank-additional-full.csv', sep=';',header=0)"
   ]
  },
  {
   "cell_type": "code",
   "execution_count": 4,
   "id": "74cf1a12",
   "metadata": {
    "ExecuteTime": {
     "end_time": "2023-12-10T14:49:40.073832497Z",
     "start_time": "2023-12-10T14:49:39.978492326Z"
    }
   },
   "outputs": [
    {
     "data": {
      "text/plain": "   age        job  marital    education  default housing loan    contact  \\\n0   56  housemaid  married     basic.4y       no      no   no  telephone   \n1   57   services  married  high.school  unknown      no   no  telephone   \n2   37   services  married  high.school       no     yes   no  telephone   \n3   40     admin.  married     basic.6y       no      no   no  telephone   \n4   56   services  married  high.school       no      no  yes  telephone   \n\n  month day_of_week  ...  campaign  pdays  previous     poutcome emp.var.rate  \\\n0   may         mon  ...         1    999         0  nonexistent          1.1   \n1   may         mon  ...         1    999         0  nonexistent          1.1   \n2   may         mon  ...         1    999         0  nonexistent          1.1   \n3   may         mon  ...         1    999         0  nonexistent          1.1   \n4   may         mon  ...         1    999         0  nonexistent          1.1   \n\n   cons.price.idx  cons.conf.idx  euribor3m  nr.employed   y  \n0          93.994          -36.4      4.857       5191.0  no  \n1          93.994          -36.4      4.857       5191.0  no  \n2          93.994          -36.4      4.857       5191.0  no  \n3          93.994          -36.4      4.857       5191.0  no  \n4          93.994          -36.4      4.857       5191.0  no  \n\n[5 rows x 21 columns]",
      "text/html": "<div>\n<style scoped>\n    .dataframe tbody tr th:only-of-type {\n        vertical-align: middle;\n    }\n\n    .dataframe tbody tr th {\n        vertical-align: top;\n    }\n\n    .dataframe thead th {\n        text-align: right;\n    }\n</style>\n<table border=\"1\" class=\"dataframe\">\n  <thead>\n    <tr style=\"text-align: right;\">\n      <th></th>\n      <th>age</th>\n      <th>job</th>\n      <th>marital</th>\n      <th>education</th>\n      <th>default</th>\n      <th>housing</th>\n      <th>loan</th>\n      <th>contact</th>\n      <th>month</th>\n      <th>day_of_week</th>\n      <th>...</th>\n      <th>campaign</th>\n      <th>pdays</th>\n      <th>previous</th>\n      <th>poutcome</th>\n      <th>emp.var.rate</th>\n      <th>cons.price.idx</th>\n      <th>cons.conf.idx</th>\n      <th>euribor3m</th>\n      <th>nr.employed</th>\n      <th>y</th>\n    </tr>\n  </thead>\n  <tbody>\n    <tr>\n      <th>0</th>\n      <td>56</td>\n      <td>housemaid</td>\n      <td>married</td>\n      <td>basic.4y</td>\n      <td>no</td>\n      <td>no</td>\n      <td>no</td>\n      <td>telephone</td>\n      <td>may</td>\n      <td>mon</td>\n      <td>...</td>\n      <td>1</td>\n      <td>999</td>\n      <td>0</td>\n      <td>nonexistent</td>\n      <td>1.1</td>\n      <td>93.994</td>\n      <td>-36.4</td>\n      <td>4.857</td>\n      <td>5191.0</td>\n      <td>no</td>\n    </tr>\n    <tr>\n      <th>1</th>\n      <td>57</td>\n      <td>services</td>\n      <td>married</td>\n      <td>high.school</td>\n      <td>unknown</td>\n      <td>no</td>\n      <td>no</td>\n      <td>telephone</td>\n      <td>may</td>\n      <td>mon</td>\n      <td>...</td>\n      <td>1</td>\n      <td>999</td>\n      <td>0</td>\n      <td>nonexistent</td>\n      <td>1.1</td>\n      <td>93.994</td>\n      <td>-36.4</td>\n      <td>4.857</td>\n      <td>5191.0</td>\n      <td>no</td>\n    </tr>\n    <tr>\n      <th>2</th>\n      <td>37</td>\n      <td>services</td>\n      <td>married</td>\n      <td>high.school</td>\n      <td>no</td>\n      <td>yes</td>\n      <td>no</td>\n      <td>telephone</td>\n      <td>may</td>\n      <td>mon</td>\n      <td>...</td>\n      <td>1</td>\n      <td>999</td>\n      <td>0</td>\n      <td>nonexistent</td>\n      <td>1.1</td>\n      <td>93.994</td>\n      <td>-36.4</td>\n      <td>4.857</td>\n      <td>5191.0</td>\n      <td>no</td>\n    </tr>\n    <tr>\n      <th>3</th>\n      <td>40</td>\n      <td>admin.</td>\n      <td>married</td>\n      <td>basic.6y</td>\n      <td>no</td>\n      <td>no</td>\n      <td>no</td>\n      <td>telephone</td>\n      <td>may</td>\n      <td>mon</td>\n      <td>...</td>\n      <td>1</td>\n      <td>999</td>\n      <td>0</td>\n      <td>nonexistent</td>\n      <td>1.1</td>\n      <td>93.994</td>\n      <td>-36.4</td>\n      <td>4.857</td>\n      <td>5191.0</td>\n      <td>no</td>\n    </tr>\n    <tr>\n      <th>4</th>\n      <td>56</td>\n      <td>services</td>\n      <td>married</td>\n      <td>high.school</td>\n      <td>no</td>\n      <td>no</td>\n      <td>yes</td>\n      <td>telephone</td>\n      <td>may</td>\n      <td>mon</td>\n      <td>...</td>\n      <td>1</td>\n      <td>999</td>\n      <td>0</td>\n      <td>nonexistent</td>\n      <td>1.1</td>\n      <td>93.994</td>\n      <td>-36.4</td>\n      <td>4.857</td>\n      <td>5191.0</td>\n      <td>no</td>\n    </tr>\n  </tbody>\n</table>\n<p>5 rows × 21 columns</p>\n</div>"
     },
     "execution_count": 4,
     "metadata": {},
     "output_type": "execute_result"
    }
   ],
   "source": [
    "df.head()"
   ]
  },
  {
   "cell_type": "code",
   "execution_count": 5,
   "id": "17b9f17f",
   "metadata": {
    "ExecuteTime": {
     "end_time": "2023-12-10T14:49:40.342336224Z",
     "start_time": "2023-12-10T14:49:40.023976609Z"
    }
   },
   "outputs": [],
   "source": [
    "# supprimer les lignes avec des valeurs manquantes \n",
    "df.dropna(inplace=True)\n",
    "df.drop_duplicates(inplace=True)"
   ]
  },
  {
   "cell_type": "markdown",
   "id": "b0a2cac6",
   "metadata": {},
   "source": [
    "nous comptons les échantillons négatifs et positifs et affichons le rapport de classe. Cela nous indiquera à quel point l'ensemble de données est déséquilibré :"
   ]
  },
  {
   "cell_type": "code",
   "execution_count": 6,
   "id": "bec23865",
   "metadata": {
    "ExecuteTime": {
     "end_time": "2023-12-10T14:49:40.486855103Z",
     "start_time": "2023-12-10T14:49:40.209836574Z"
    }
   },
   "outputs": [
    {
     "name": "stdout",
     "output_type": "stream",
     "text": [
      "Ratio: 7.88\n"
     ]
    }
   ],
   "source": [
    "one_class = df[df['y']=='yes']\n",
    "one_class_count = one_class.shape[0]\n",
    "zero_class = df[df['y']=='no']\n",
    "zero_class_count = zero_class.shape[0]\n",
    "zero_to_one_ratio = zero_class_count/one_class_count\n",
    "print(\"Ratio: %.2f\" % zero_to_one_ratio)"
   ]
  },
  {
   "cell_type": "code",
   "execution_count": 7,
   "id": "9cf2b120",
   "metadata": {
    "ExecuteTime": {
     "end_time": "2023-12-10T14:49:40.955375331Z",
     "start_time": "2023-12-10T14:49:40.254727122Z"
    }
   },
   "outputs": [
    {
     "data": {
      "text/plain": "<AxesSubplot:title={'center':'Distribution of Subscriptions'}, xlabel='y', ylabel='count'>"
     },
     "execution_count": 7,
     "metadata": {},
     "output_type": "execute_result"
    },
    {
     "data": {
      "text/plain": "<Figure size 648x360 with 1 Axes>",
      "image/png": "[encoded data removed]"
     },
     "metadata": {
      "needs_background": "light"
     },
     "output_type": "display_data"
    }
   ],
   "source": [
    "import seaborn as sns\n",
    "import matplotlib.pyplot as plt\n",
    "# Configuring styles\n",
    "sns.set_style(\"darkgrid\")\n",
    "plt.rcParams['font.size'] = 14\n",
    "plt.rcParams['figure.figsize'] = (9, 5)\n",
    "plt.rcParams['figure.facecolor'] = '#00000000'\n",
    "\n",
    "plt.title(\"Distribution of Subscriptions\")\n",
    "\n",
    "sns.countplot(x=\"y\", data=df, palette=\"bwr\")"
   ]
  },
  {
   "cell_type": "markdown",
   "id": "40dd584c",
   "metadata": {},
   "source": [
    "En regardant le dataset, nous pouvons voir une colonne nommée pdays, nous indiquant depuis combien de temps un client a été contacté. Certaines lignes ont une valeur de 999, et cela semble assez suspect : en effet, il s'agit d'une valeur fictive signifiant qu'un client n'a jamais été contacté. Pour aider le modèle à comprendre cette hypothèse, ajoutons une nouvelle colonne l'énonçant explicitement :"
   ]
  },
  {
   "cell_type": "code",
   "execution_count": 8,
   "id": "760e271c",
   "metadata": {
    "ExecuteTime": {
     "end_time": "2023-12-10T14:49:41.019459305Z",
     "start_time": "2023-12-10T14:49:40.895696747Z"
    }
   },
   "outputs": [],
   "source": [
    "import numpy as np\n",
    "df['no_previous_contact'] = np.where(df['pdays'] == 999,1, 0)"
   ]
  },
  {
   "cell_type": "markdown",
   "id": "2f3e3984",
   "metadata": {},
   "source": [
    "Dans la colonne job, on peut voir trois catégories (student, retired, and unemployed) qu'il faudrait probablement regrouper pour  indiquer que ces clients n'ont pas d'emploi à temps plein"
   ]
  },
  {
   "cell_type": "code",
   "execution_count": 9,
   "id": "6717f952",
   "metadata": {
    "ExecuteTime": {
     "end_time": "2023-12-10T14:49:41.199588193Z",
     "start_time": "2023-12-10T14:49:40.912448260Z"
    }
   },
   "outputs": [],
   "source": [
    "df['not_working'] = np.where(np.in1d(df['job'],['student', 'retired', 'unemployed']), 1, 0)"
   ]
  },
  {
   "cell_type": "code",
   "execution_count": 10,
   "id": "19c6878a",
   "metadata": {
    "ExecuteTime": {
     "end_time": "2023-12-10T14:49:41.314010957Z",
     "start_time": "2023-12-10T14:49:40.928750634Z"
    }
   },
   "outputs": [
    {
     "data": {
      "text/plain": "   age        job  marital    education  default housing loan    contact  \\\n0   56  housemaid  married     basic.4y       no      no   no  telephone   \n1   57   services  married  high.school  unknown      no   no  telephone   \n2   37   services  married  high.school       no     yes   no  telephone   \n3   40     admin.  married     basic.6y       no      no   no  telephone   \n4   56   services  married  high.school       no      no  yes  telephone   \n\n  month day_of_week  ...  previous     poutcome  emp.var.rate  cons.price.idx  \\\n0   may         mon  ...         0  nonexistent           1.1          93.994   \n1   may         mon  ...         0  nonexistent           1.1          93.994   \n2   may         mon  ...         0  nonexistent           1.1          93.994   \n3   may         mon  ...         0  nonexistent           1.1          93.994   \n4   may         mon  ...         0  nonexistent           1.1          93.994   \n\n  cons.conf.idx  euribor3m  nr.employed   y  no_previous_contact  not_working  \n0         -36.4      4.857       5191.0  no                    1            0  \n1         -36.4      4.857       5191.0  no                    1            0  \n2         -36.4      4.857       5191.0  no                    1            0  \n3         -36.4      4.857       5191.0  no                    1            0  \n4         -36.4      4.857       5191.0  no                    1            0  \n\n[5 rows x 23 columns]",
      "text/html": "<div>\n<style scoped>\n    .dataframe tbody tr th:only-of-type {\n        vertical-align: middle;\n    }\n\n    .dataframe tbody tr th {\n        vertical-align: top;\n    }\n\n    .dataframe thead th {\n        text-align: right;\n    }\n</style>\n<table border=\"1\" class=\"dataframe\">\n  <thead>\n    <tr style=\"text-align: right;\">\n      <th></th>\n      <th>age</th>\n      <th>job</th>\n      <th>marital</th>\n      <th>education</th>\n      <th>default</th>\n      <th>housing</th>\n      <th>loan</th>\n      <th>contact</th>\n      <th>month</th>\n      <th>day_of_week</th>\n      <th>...</th>\n      <th>previous</th>\n      <th>poutcome</th>\n      <th>emp.var.rate</th>\n      <th>cons.price.idx</th>\n      <th>cons.conf.idx</th>\n      <th>euribor3m</th>\n      <th>nr.employed</th>\n      <th>y</th>\n      <th>no_previous_contact</th>\n      <th>not_working</th>\n    </tr>\n  </thead>\n  <tbody>\n    <tr>\n      <th>0</th>\n      <td>56</td>\n      <td>housemaid</td>\n      <td>married</td>\n      <td>basic.4y</td>\n      <td>no</td>\n      <td>no</td>\n      <td>no</td>\n      <td>telephone</td>\n      <td>may</td>\n      <td>mon</td>\n      <td>...</td>\n      <td>0</td>\n      <td>nonexistent</td>\n      <td>1.1</td>\n      <td>93.994</td>\n      <td>-36.4</td>\n      <td>4.857</td>\n      <td>5191.0</td>\n      <td>no</td>\n      <td>1</td>\n      <td>0</td>\n    </tr>\n    <tr>\n      <th>1</th>\n      <td>57</td>\n      <td>services</td>\n      <td>married</td>\n      <td>high.school</td>\n      <td>unknown</td>\n      <td>no</td>\n      <td>no</td>\n      <td>telephone</td>\n      <td>may</td>\n      <td>mon</td>\n      <td>...</td>\n      <td>0</td>\n      <td>nonexistent</td>\n      <td>1.1</td>\n      <td>93.994</td>\n      <td>-36.4</td>\n      <td>4.857</td>\n      <td>5191.0</td>\n      <td>no</td>\n      <td>1</td>\n      <td>0</td>\n    </tr>\n    <tr>\n      <th>2</th>\n      <td>37</td>\n      <td>services</td>\n      <td>married</td>\n      <td>high.school</td>\n      <td>no</td>\n      <td>yes</td>\n      <td>no</td>\n      <td>telephone</td>\n      <td>may</td>\n      <td>mon</td>\n      <td>...</td>\n      <td>0</td>\n      <td>nonexistent</td>\n      <td>1.1</td>\n      <td>93.994</td>\n      <td>-36.4</td>\n      <td>4.857</td>\n      <td>5191.0</td>\n      <td>no</td>\n      <td>1</td>\n      <td>0</td>\n    </tr>\n    <tr>\n      <th>3</th>\n      <td>40</td>\n      <td>admin.</td>\n      <td>married</td>\n      <td>basic.6y</td>\n      <td>no</td>\n      <td>no</td>\n      <td>no</td>\n      <td>telephone</td>\n      <td>may</td>\n      <td>mon</td>\n      <td>...</td>\n      <td>0</td>\n      <td>nonexistent</td>\n      <td>1.1</td>\n      <td>93.994</td>\n      <td>-36.4</td>\n      <td>4.857</td>\n      <td>5191.0</td>\n      <td>no</td>\n      <td>1</td>\n      <td>0</td>\n    </tr>\n    <tr>\n      <th>4</th>\n      <td>56</td>\n      <td>services</td>\n      <td>married</td>\n      <td>high.school</td>\n      <td>no</td>\n      <td>no</td>\n      <td>yes</td>\n      <td>telephone</td>\n      <td>may</td>\n      <td>mon</td>\n      <td>...</td>\n      <td>0</td>\n      <td>nonexistent</td>\n      <td>1.1</td>\n      <td>93.994</td>\n      <td>-36.4</td>\n      <td>4.857</td>\n      <td>5191.0</td>\n      <td>no</td>\n      <td>1</td>\n      <td>0</td>\n    </tr>\n  </tbody>\n</table>\n<p>5 rows × 23 columns</p>\n</div>"
     },
     "execution_count": 10,
     "metadata": {},
     "output_type": "execute_result"
    }
   ],
   "source": [
    "df.head()"
   ]
  },
  {
   "cell_type": "code",
   "execution_count": 11,
   "id": "930b1220",
   "metadata": {
    "ExecuteTime": {
     "end_time": "2023-12-10T14:49:41.440439923Z",
     "start_time": "2023-12-10T14:49:40.997220142Z"
    }
   },
   "outputs": [
    {
     "data": {
      "text/plain": "        age        job  marital    education  default housing loan    contact  \\\n0  1.533143  housemaid  married     basic.4y       no      no   no  telephone   \n1  1.629107   services  married  high.school  unknown      no   no  telephone   \n2 -0.290177   services  married  high.school       no     yes   no  telephone   \n3 -0.002284     admin.  married     basic.6y       no      no   no  telephone   \n4  1.533143   services  married  high.school       no      no  yes  telephone   \n\n  month day_of_week  ...  previous     poutcome  emp.var.rate  cons.price.idx  \\\n0   may         mon  ... -0.349551  nonexistent           1.1          93.994   \n1   may         mon  ... -0.349551  nonexistent           1.1          93.994   \n2   may         mon  ... -0.349551  nonexistent           1.1          93.994   \n3   may         mon  ... -0.349551  nonexistent           1.1          93.994   \n4   may         mon  ... -0.349551  nonexistent           1.1          93.994   \n\n  cons.conf.idx  euribor3m  nr.employed   y  no_previous_contact  not_working  \n0         -36.4      4.857       5191.0  no                    1            0  \n1         -36.4      4.857       5191.0  no                    1            0  \n2         -36.4      4.857       5191.0  no                    1            0  \n3         -36.4      4.857       5191.0  no                    1            0  \n4         -36.4      4.857       5191.0  no                    1            0  \n\n[5 rows x 23 columns]",
      "text/html": "<div>\n<style scoped>\n    .dataframe tbody tr th:only-of-type {\n        vertical-align: middle;\n    }\n\n    .dataframe tbody tr th {\n        vertical-align: top;\n    }\n\n    .dataframe thead th {\n        text-align: right;\n    }\n</style>\n<table border=\"1\" class=\"dataframe\">\n  <thead>\n    <tr style=\"text-align: right;\">\n      <th></th>\n      <th>age</th>\n      <th>job</th>\n      <th>marital</th>\n      <th>education</th>\n      <th>default</th>\n      <th>housing</th>\n      <th>loan</th>\n      <th>contact</th>\n      <th>month</th>\n      <th>day_of_week</th>\n      <th>...</th>\n      <th>previous</th>\n      <th>poutcome</th>\n      <th>emp.var.rate</th>\n      <th>cons.price.idx</th>\n      <th>cons.conf.idx</th>\n      <th>euribor3m</th>\n      <th>nr.employed</th>\n      <th>y</th>\n      <th>no_previous_contact</th>\n      <th>not_working</th>\n    </tr>\n  </thead>\n  <tbody>\n    <tr>\n      <th>0</th>\n      <td>1.533143</td>\n      <td>housemaid</td>\n      <td>married</td>\n      <td>basic.4y</td>\n      <td>no</td>\n      <td>no</td>\n      <td>no</td>\n      <td>telephone</td>\n      <td>may</td>\n      <td>mon</td>\n      <td>...</td>\n      <td>-0.349551</td>\n      <td>nonexistent</td>\n      <td>1.1</td>\n      <td>93.994</td>\n      <td>-36.4</td>\n      <td>4.857</td>\n      <td>5191.0</td>\n      <td>no</td>\n      <td>1</td>\n      <td>0</td>\n    </tr>\n    <tr>\n      <th>1</th>\n      <td>1.629107</td>\n      <td>services</td>\n      <td>married</td>\n      <td>high.school</td>\n      <td>unknown</td>\n      <td>no</td>\n      <td>no</td>\n      <td>telephone</td>\n      <td>may</td>\n      <td>mon</td>\n      <td>...</td>\n      <td>-0.349551</td>\n      <td>nonexistent</td>\n      <td>1.1</td>\n      <td>93.994</td>\n      <td>-36.4</td>\n      <td>4.857</td>\n      <td>5191.0</td>\n      <td>no</td>\n      <td>1</td>\n      <td>0</td>\n    </tr>\n    <tr>\n      <th>2</th>\n      <td>-0.290177</td>\n      <td>services</td>\n      <td>married</td>\n      <td>high.school</td>\n      <td>no</td>\n      <td>yes</td>\n      <td>no</td>\n      <td>telephone</td>\n      <td>may</td>\n      <td>mon</td>\n      <td>...</td>\n      <td>-0.349551</td>\n      <td>nonexistent</td>\n      <td>1.1</td>\n      <td>93.994</td>\n      <td>-36.4</td>\n      <td>4.857</td>\n      <td>5191.0</td>\n      <td>no</td>\n      <td>1</td>\n      <td>0</td>\n    </tr>\n    <tr>\n      <th>3</th>\n      <td>-0.002284</td>\n      <td>admin.</td>\n      <td>married</td>\n      <td>basic.6y</td>\n      <td>no</td>\n      <td>no</td>\n      <td>no</td>\n      <td>telephone</td>\n      <td>may</td>\n      <td>mon</td>\n      <td>...</td>\n      <td>-0.349551</td>\n      <td>nonexistent</td>\n      <td>1.1</td>\n      <td>93.994</td>\n      <td>-36.4</td>\n      <td>4.857</td>\n      <td>5191.0</td>\n      <td>no</td>\n      <td>1</td>\n      <td>0</td>\n    </tr>\n    <tr>\n      <th>4</th>\n      <td>1.533143</td>\n      <td>services</td>\n      <td>married</td>\n      <td>high.school</td>\n      <td>no</td>\n      <td>no</td>\n      <td>yes</td>\n      <td>telephone</td>\n      <td>may</td>\n      <td>mon</td>\n      <td>...</td>\n      <td>-0.349551</td>\n      <td>nonexistent</td>\n      <td>1.1</td>\n      <td>93.994</td>\n      <td>-36.4</td>\n      <td>4.857</td>\n      <td>5191.0</td>\n      <td>no</td>\n      <td>1</td>\n      <td>0</td>\n    </tr>\n  </tbody>\n</table>\n<p>5 rows × 23 columns</p>\n</div>"
     },
     "execution_count": 11,
     "metadata": {},
     "output_type": "execute_result"
    }
   ],
   "source": [
    "from sklearn.preprocessing import StandardScaler\n",
    "\n",
    "# Copying original dataframe\n",
    "df_bank_ready = df.copy()\n",
    "\n",
    "scaler = StandardScaler()\n",
    "num_cols = ['age', 'duration', 'campaign', 'pdays', 'previous']\n",
    "df_bank_ready[num_cols] = scaler.fit_transform(df_bank_ready[num_cols])\n",
    "\n",
    "df_bank_ready.head()"
   ]
  },
  {
   "cell_type": "code",
   "execution_count": 17,
   "id": "ce83f29e",
   "metadata": {
    "ExecuteTime": {
     "end_time": "2023-12-10T14:52:30.692564669Z",
     "start_time": "2023-12-10T14:52:30.446182496Z"
    }
   },
   "outputs": [
    {
     "name": "stdout",
     "output_type": "stream",
     "text": [
      "Shape of dataframe: (41188, 62)\n"
     ]
    },
    {
     "data": {
      "text/plain": "   job_admin.  job_blue-collar  job_entrepreneur  job_housemaid  \\\n0         0.0              0.0               0.0            1.0   \n1         0.0              0.0               0.0            0.0   \n2         0.0              0.0               0.0            0.0   \n3         1.0              0.0               0.0            0.0   \n4         0.0              0.0               0.0            0.0   \n\n   job_management  job_retired  job_self-employed  job_services  job_student  \\\n0             0.0          0.0                0.0           0.0          0.0   \n1             0.0          0.0                0.0           1.0          0.0   \n2             0.0          0.0                0.0           1.0          0.0   \n3             0.0          0.0                0.0           0.0          0.0   \n4             0.0          0.0                0.0           1.0          0.0   \n\n   job_technician  ...     pdays  previous  emp.var.rate  cons.price.idx  \\\n0             0.0  ...  0.195443 -0.349551           1.1          93.994   \n1             0.0  ...  0.195443 -0.349551           1.1          93.994   \n2             0.0  ...  0.195443 -0.349551           1.1          93.994   \n3             0.0  ...  0.195443 -0.349551           1.1          93.994   \n4             0.0  ...  0.195443 -0.349551           1.1          93.994   \n\n   cons.conf.idx  euribor3m  nr.employed  y  no_previous_contact  not_working  \n0          -36.4      4.857       5191.0  0                  1.0          0.0  \n1          -36.4      4.857       5191.0  0                  1.0          0.0  \n2          -36.4      4.857       5191.0  0                  1.0          0.0  \n3          -36.4      4.857       5191.0  0                  1.0          0.0  \n4          -36.4      4.857       5191.0  0                  1.0          0.0  \n\n[5 rows x 62 columns]",
      "text/html": "<div>\n<style scoped>\n    .dataframe tbody tr th:only-of-type {\n        vertical-align: middle;\n    }\n\n    .dataframe tbody tr th {\n        vertical-align: top;\n    }\n\n    .dataframe thead th {\n        text-align: right;\n    }\n</style>\n<table border=\"1\" class=\"dataframe\">\n  <thead>\n    <tr style=\"text-align: right;\">\n      <th></th>\n      <th>job_admin.</th>\n      <th>job_blue-collar</th>\n      <th>job_entrepreneur</th>\n      <th>job_housemaid</th>\n      <th>job_management</th>\n      <th>job_retired</th>\n      <th>job_self-employed</th>\n      <th>job_services</th>\n      <th>job_student</th>\n      <th>job_technician</th>\n      <th>...</th>\n      <th>pdays</th>\n      <th>previous</th>\n      <th>emp.var.rate</th>\n      <th>cons.price.idx</th>\n      <th>cons.conf.idx</th>\n      <th>euribor3m</th>\n      <th>nr.employed</th>\n      <th>y</th>\n      <th>no_previous_contact</th>\n      <th>not_working</th>\n    </tr>\n  </thead>\n  <tbody>\n    <tr>\n      <th>0</th>\n      <td>0.0</td>\n      <td>0.0</td>\n      <td>0.0</td>\n      <td>1.0</td>\n      <td>0.0</td>\n      <td>0.0</td>\n      <td>0.0</td>\n      <td>0.0</td>\n      <td>0.0</td>\n      <td>0.0</td>\n      <td>...</td>\n      <td>0.195443</td>\n      <td>-0.349551</td>\n      <td>1.1</td>\n      <td>93.994</td>\n      <td>-36.4</td>\n      <td>4.857</td>\n      <td>5191.0</td>\n      <td>0</td>\n      <td>1.0</td>\n      <td>0.0</td>\n    </tr>\n    <tr>\n      <th>1</th>\n      <td>0.0</td>\n      <td>0.0</td>\n      <td>0.0</td>\n      <td>0.0</td>\n      <td>0.0</td>\n      <td>0.0</td>\n      <td>0.0</td>\n      <td>1.0</td>\n      <td>0.0</td>\n      <td>0.0</td>\n      <td>...</td>\n      <td>0.195443</td>\n      <td>-0.349551</td>\n      <td>1.1</td>\n      <td>93.994</td>\n      <td>-36.4</td>\n      <td>4.857</td>\n      <td>5191.0</td>\n      <td>0</td>\n      <td>1.0</td>\n      <td>0.0</td>\n    </tr>\n    <tr>\n      <th>2</th>\n      <td>0.0</td>\n      <td>0.0</td>\n      <td>0.0</td>\n      <td>0.0</td>\n      <td>0.0</td>\n      <td>0.0</td>\n      <td>0.0</td>\n      <td>1.0</td>\n      <td>0.0</td>\n      <td>0.0</td>\n      <td>...</td>\n      <td>0.195443</td>\n      <td>-0.349551</td>\n      <td>1.1</td>\n      <td>93.994</td>\n      <td>-36.4</td>\n      <td>4.857</td>\n      <td>5191.0</td>\n      <td>0</td>\n      <td>1.0</td>\n      <td>0.0</td>\n    </tr>\n    <tr>\n      <th>3</th>\n      <td>1.0</td>\n      <td>0.0</td>\n      <td>0.0</td>\n      <td>0.0</td>\n      <td>0.0</td>\n      <td>0.0</td>\n      <td>0.0</td>\n      <td>0.0</td>\n      <td>0.0</td>\n      <td>0.0</td>\n      <td>...</td>\n      <td>0.195443</td>\n      <td>-0.349551</td>\n      <td>1.1</td>\n      <td>93.994</td>\n      <td>-36.4</td>\n      <td>4.857</td>\n      <td>5191.0</td>\n      <td>0</td>\n      <td>1.0</td>\n      <td>0.0</td>\n    </tr>\n    <tr>\n      <th>4</th>\n      <td>0.0</td>\n      <td>0.0</td>\n      <td>0.0</td>\n      <td>0.0</td>\n      <td>0.0</td>\n      <td>0.0</td>\n      <td>0.0</td>\n      <td>1.0</td>\n      <td>0.0</td>\n      <td>0.0</td>\n      <td>...</td>\n      <td>0.195443</td>\n      <td>-0.349551</td>\n      <td>1.1</td>\n      <td>93.994</td>\n      <td>-36.4</td>\n      <td>4.857</td>\n      <td>5191.0</td>\n      <td>0</td>\n      <td>1.0</td>\n      <td>0.0</td>\n    </tr>\n  </tbody>\n</table>\n<p>5 rows × 62 columns</p>\n</div>"
     },
     "execution_count": 17,
     "metadata": {},
     "output_type": "execute_result"
    }
   ],
   "source": [
    "from sklearn.preprocessing import OneHotEncoder\n",
    "\n",
    "encoder = OneHotEncoder(sparse=False)\n",
    "cat_cols = ['job', 'marital', 'education', 'default', 'housing', 'loan', 'contact', 'month', 'poutcome']\n",
    "\n",
    "# Encode Categorical Data\n",
    "df_encoded = pd.DataFrame(encoder.fit_transform(df_bank_ready[cat_cols]))\n",
    "df_encoded.columns = encoder.get_feature_names_out(cat_cols)\n",
    "\n",
    "# Replace Categotical Data with Encoded Data\n",
    "df_bank_ready = df_bank_ready.drop(cat_cols ,axis=1)\n",
    "df_bank_ready = pd.concat([df_encoded, df_bank_ready], axis=1)\n",
    "\n",
    "df_bank_ready['y'] = df_bank_ready['y'].apply(lambda x: 1 if x == 'yes' else 0)\n",
    "print('Shape of dataframe:', df_bank_ready.shape)\n",
    "df_bank_ready.head()"
   ]
  },
  {
   "cell_type": "code",
   "execution_count": 18,
   "id": "b22c8b0f",
   "metadata": {
    "ExecuteTime": {
     "end_time": "2023-12-10T14:52:33.117741300Z",
     "start_time": "2023-12-10T14:52:32.984234429Z"
    }
   },
   "outputs": [
    {
     "name": "stdout",
     "output_type": "stream",
     "text": [
      "Shape of training feature: (32950, 61)\n",
      "Shape of testing feature: (8238, 61)\n",
      "Shape of training label: (32950,)\n",
      "Shape of training label: (8238,)\n"
     ]
    }
   ],
   "source": [
    "# Select Features\n",
    "feature = df_bank_ready.drop('y', axis=1)\n",
    "\n",
    "# Select Target\n",
    "target = df_bank_ready['y']\n",
    "\n",
    "# Set Training and Testing Data\n",
    "from sklearn.model_selection import train_test_split\n",
    "X_train, X_test, y_train, y_test = train_test_split(feature , target, \n",
    "                                                    shuffle = True, \n",
    "                                                    test_size=0.2, \n",
    "                                                    random_state=1)\n",
    "\n",
    "# Show the Training and Testing Data\n",
    "print('Shape of training feature:', X_train.shape)\n",
    "print('Shape of testing feature:', X_test.shape)\n",
    "print('Shape of training label:', y_train.shape)\n",
    "print('Shape of training label:', y_test.shape)"
   ]
  },
  {
   "cell_type": "code",
   "execution_count": null,
   "id": "a631680d",
   "metadata": {
    "ExecuteTime": {
     "end_time": "2023-12-10T14:49:42.019685233Z",
     "start_time": "2023-12-10T14:49:42.000640176Z"
    }
   },
   "outputs": [],
   "source": []
  }
 ],
 "metadata": {
  "kernelspec": {
   "display_name": "Python 3 (ipykernel)",
   "language": "python",
   "name": "python3"
  },
  "language_info": {
   "codemirror_mode": {
    "name": "ipython",
    "version": 3
   },
   "file_extension": ".py",
   "mimetype": "text/x-python",
   "name": "python",
   "nbconvert_exporter": "python",
   "pygments_lexer": "ipython3",
   "version": "3.7.13"
  }
 },
 "nbformat": 4,
 "nbformat_minor": 5
}
