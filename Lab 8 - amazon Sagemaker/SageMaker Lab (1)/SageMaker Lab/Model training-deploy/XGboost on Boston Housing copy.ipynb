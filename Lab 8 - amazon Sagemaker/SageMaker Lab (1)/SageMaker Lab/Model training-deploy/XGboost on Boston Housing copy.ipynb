{
    "cells": [
        {
            "cell_type": "code",
            "execution_count": 1,
            "metadata": {
                "tags": []
            },
            "outputs": [],
            "source": [
                "import pandas as pd\n",
                "\n",
                "dataset = pd.read_csv(\"housing.csv\")"
            ]
        },
        {
            "cell_type": "code",
            "execution_count": 2,
            "metadata": {
                "tags": []
            },
            "outputs": [
                {
                    "name": "stdout",
                    "output_type": "stream",
                    "text": [
                        "(506, 13)\n"
                    ]
                },
                {
                    "data": {
                        "text/html": [
                            "<div>\n",
                            "<style scoped>\n",
                            "    .dataframe tbody tr th:only-of-type {\n",
                            "        vertical-align: middle;\n",
                            "    }\n",
                            "\n",
                            "    .dataframe tbody tr th {\n",
                            "        vertical-align: top;\n",
                            "    }\n",
                            "\n",
                            "    .dataframe thead th {\n",
                            "        text-align: right;\n",
                            "    }\n",
                            "</style>\n",
                            "<table border=\"1\" class=\"dataframe\">\n",
                            "  <thead>\n",
                            "    <tr style=\"text-align: right;\">\n",
                            "      <th></th>\n",
                            "      <th>crim</th>\n",
                            "      <th>zn</th>\n",
                            "      <th>indus</th>\n",
                            "      <th>chas</th>\n",
                            "      <th>nox</th>\n",
                            "      <th>age</th>\n",
                            "      <th>rm</th>\n",
                            "      <th>dis</th>\n",
                            "      <th>rad</th>\n",
                            "      <th>tax</th>\n",
                            "      <th>ptratio</th>\n",
                            "      <th>lstat</th>\n",
                            "      <th>medv</th>\n",
                            "    </tr>\n",
                            "  </thead>\n",
                            "  <tbody>\n",
                            "    <tr>\n",
                            "      <th>0</th>\n",
                            "      <td>0.00632</td>\n",
                            "      <td>18.0</td>\n",
                            "      <td>2.31</td>\n",
                            "      <td>0</td>\n",
                            "      <td>0.538</td>\n",
                            "      <td>6.575</td>\n",
                            "      <td>65.2</td>\n",
                            "      <td>4.0900</td>\n",
                            "      <td>1</td>\n",
                            "      <td>296.0</td>\n",
                            "      <td>15.3</td>\n",
                            "      <td>4.98</td>\n",
                            "      <td>24.0</td>\n",
                            "    </tr>\n",
                            "    <tr>\n",
                            "      <th>1</th>\n",
                            "      <td>0.02731</td>\n",
                            "      <td>0.0</td>\n",
                            "      <td>7.07</td>\n",
                            "      <td>0</td>\n",
                            "      <td>0.469</td>\n",
                            "      <td>6.421</td>\n",
                            "      <td>78.9</td>\n",
                            "      <td>4.9671</td>\n",
                            "      <td>2</td>\n",
                            "      <td>242.0</td>\n",
                            "      <td>17.8</td>\n",
                            "      <td>9.14</td>\n",
                            "      <td>21.6</td>\n",
                            "    </tr>\n",
                            "    <tr>\n",
                            "      <th>2</th>\n",
                            "      <td>0.02729</td>\n",
                            "      <td>0.0</td>\n",
                            "      <td>7.07</td>\n",
                            "      <td>0</td>\n",
                            "      <td>0.469</td>\n",
                            "      <td>7.185</td>\n",
                            "      <td>61.1</td>\n",
                            "      <td>4.9671</td>\n",
                            "      <td>2</td>\n",
                            "      <td>242.0</td>\n",
                            "      <td>17.8</td>\n",
                            "      <td>4.03</td>\n",
                            "      <td>34.7</td>\n",
                            "    </tr>\n",
                            "    <tr>\n",
                            "      <th>3</th>\n",
                            "      <td>0.03237</td>\n",
                            "      <td>0.0</td>\n",
                            "      <td>2.18</td>\n",
                            "      <td>0</td>\n",
                            "      <td>0.458</td>\n",
                            "      <td>6.998</td>\n",
                            "      <td>45.8</td>\n",
                            "      <td>6.0622</td>\n",
                            "      <td>3</td>\n",
                            "      <td>222.0</td>\n",
                            "      <td>18.7</td>\n",
                            "      <td>2.94</td>\n",
                            "      <td>33.4</td>\n",
                            "    </tr>\n",
                            "    <tr>\n",
                            "      <th>4</th>\n",
                            "      <td>0.06905</td>\n",
                            "      <td>0.0</td>\n",
                            "      <td>2.18</td>\n",
                            "      <td>0</td>\n",
                            "      <td>0.458</td>\n",
                            "      <td>7.147</td>\n",
                            "      <td>54.2</td>\n",
                            "      <td>6.0622</td>\n",
                            "      <td>3</td>\n",
                            "      <td>222.0</td>\n",
                            "      <td>18.7</td>\n",
                            "      <td>5.33</td>\n",
                            "      <td>36.2</td>\n",
                            "    </tr>\n",
                            "  </tbody>\n",
                            "</table>\n",
                            "</div>"
                        ],
                        "text/plain": [
                            "      crim    zn  indus  chas    nox    age    rm     dis  rad    tax  \\\n",
                            "0  0.00632  18.0   2.31     0  0.538  6.575  65.2  4.0900    1  296.0   \n",
                            "1  0.02731   0.0   7.07     0  0.469  6.421  78.9  4.9671    2  242.0   \n",
                            "2  0.02729   0.0   7.07     0  0.469  7.185  61.1  4.9671    2  242.0   \n",
                            "3  0.03237   0.0   2.18     0  0.458  6.998  45.8  6.0622    3  222.0   \n",
                            "4  0.06905   0.0   2.18     0  0.458  7.147  54.2  6.0622    3  222.0   \n",
                            "\n",
                            "   ptratio  lstat  medv  \n",
                            "0     15.3   4.98  24.0  \n",
                            "1     17.8   9.14  21.6  \n",
                            "2     17.8   4.03  34.7  \n",
                            "3     18.7   2.94  33.4  \n",
                            "4     18.7   5.33  36.2  "
                        ]
                    },
                    "execution_count": 2,
                    "metadata": {},
                    "output_type": "execute_result"
                }
            ],
            "source": [
                "print(dataset.shape)\n",
                "dataset[:5]"
            ]
        },
        {
            "cell_type": "code",
            "execution_count": 3,
            "metadata": {
                "tags": []
            },
            "outputs": [],
            "source": [
                "# Move 'medv' column to front\n",
                "dataset = pd.concat([dataset[\"medv\"], dataset.drop([\"medv\"], axis=1)], axis=1)"
            ]
        },
        {
            "cell_type": "code",
            "execution_count": 4,
            "metadata": {
                "tags": []
            },
            "outputs": [
                {
                    "name": "stdout",
                    "output_type": "stream",
                    "text": [
                        "(455, 13)\n",
                        "(51, 13)\n"
                    ]
                }
            ],
            "source": [
                "from sklearn.model_selection import train_test_split\n",
                "\n",
                "training_dataset, validation_dataset = train_test_split(dataset, test_size=0.1)\n",
                "\n",
                "print(training_dataset.shape)\n",
                "print(validation_dataset.shape)"
            ]
        },
        {
            "cell_type": "code",
            "execution_count": 5,
            "metadata": {
                "tags": []
            },
            "outputs": [],
            "source": [
                "training_dataset.to_csv(\"training_dataset.csv\", index=False, header=False)\n",
                "validation_dataset.to_csv(\"validation_dataset.csv\", index=False, header=False)"
            ]
        },
        {
            "cell_type": "code",
            "execution_count": 6,
            "metadata": {
                "tags": []
            },
            "outputs": [
                {
                    "name": "stdout",
                    "output_type": "stream",
                    "text": [
                        "sagemaker.config INFO - Not applying SDK defaults from location: /etc/xdg/sagemaker/config.yaml\n",
                        "sagemaker.config INFO - Not applying SDK defaults from location: /home/ec2-user/.config/sagemaker/config.yaml\n",
                        "2.203.0\n",
                        "s3://sagemaker-us-east-1-043612393875/boston-housing/input/training/training_dataset.csv\n",
                        "s3://sagemaker-us-east-1-043612393875/boston-housing/input/validation/validation_dataset.csv\n"
                    ]
                }
            ],
            "source": [
                "import sagemaker\n",
                "\n",
                "print(sagemaker.__version__)\n",
                "\n",
                "sess = sagemaker.Session()\n",
                "bucket = sess.default_bucket()\n",
                "\n",
                "prefix = \"boston-housing\"\n",
                "training_data_path = sess.upload_data(\n",
                "    path=\"training_dataset.csv\", key_prefix=prefix + \"/input/training\"\n",
                ")\n",
                "validation_data_path = sess.upload_data(\n",
                "    path=\"validation_dataset.csv\", key_prefix=prefix + \"/input/validation\"\n",
                ")\n",
                "\n",
                "print(training_data_path)\n",
                "print(validation_data_path)"
            ]
        },
        {
            "cell_type": "code",
            "execution_count": 8,
            "metadata": {
                "tags": []
            },
            "outputs": [
                {
                    "name": "stdout",
                    "output_type": "stream",
                    "text": [
                        "683313688378.dkr.ecr.us-east-1.amazonaws.com/sagemaker-xgboost:1.7-1\n"
                    ]
                }
            ],
            "source": [
                "from sagemaker.estimator import Estimator\n",
                "import boto3\n",
                "from sagemaker import image_uris\n",
                "\n",
                "region = boto3.Session().region_name\n",
                "container = image_uris.retrieve(\"xgboost\", region, \"1.7-1\")\n",
                "\n",
                "print(container)\n",
                "\n",
                "\n",
                "role = sagemaker.get_execution_role()\n",
                "\n",
                "ll_estimator = Estimator(\n",
                "    container,\n",
                "    role=role,\n",
                "    instance_count=1,\n",
                "    instance_type=\"ml.m5.large\",\n",
                "    output_path=\"s3://{}/{}/output\".format(bucket, prefix),\n",
                ")\n",
                "hyperparameters = {\n",
                "    \"max_depth\": \"5\",\n",
                "    \"eta\": \"0.2\",\n",
                "    \"gamma\": \"4\",\n",
                "    \"min_child_weight\": \"6\",\n",
                "    \"subsample\": \"0.7\",\n",
                "    \"objective\": \"reg:squarederror\",\n",
                "    \"num_round\": \"50\",\n",
                "}\n",
                "\n",
                "ll_estimator.set_hyperparameters(**hyperparameters)"
            ]
        },
        {
            "cell_type": "code",
            "execution_count": 9,
            "metadata": {
                "tags": []
            },
            "outputs": [],
            "source": [
                "content_type = \"libsvm\"\n",
                "\n",
                "training_data_channel = sagemaker.TrainingInput(\n",
                "    s3_data=training_data_path, content_type=\"text/csv\"\n",
                ")\n",
                "validation_data_channel = sagemaker.TrainingInput(\n",
                "    s3_data=validation_data_path, content_type=\"text/csv\"\n",
                ")\n",
                "\n",
                "ll_data = {\"train\": training_data_channel, \"validation\": validation_data_channel}"
            ]
        },
        {
            "cell_type": "code",
            "execution_count": 10,
            "metadata": {
                "scrolled": true,
                "tags": []
            },
            "outputs": [
                {
                    "name": "stderr",
                    "output_type": "stream",
                    "text": [
                        "INFO:sagemaker:Creating training-job with name: sagemaker-xgboost-2024-01-07-21-39-03-222\n"
                    ]
                },
                {
                    "name": "stdout",
                    "output_type": "stream",
                    "text": [
                        "2024-01-07 21:39:03 Starting - Starting the training job...\n",
                        "2024-01-07 21:39:17 Starting - Preparing the instances for training......\n",
                        "2024-01-07 21:40:27 Downloading - Downloading input data......\n",
                        "2024-01-07 21:41:12 Downloading - Downloading the training image......\n",
                        "2024-01-07 21:42:28 Training - Training image download completed. Training in progress.\n",
                        "2024-01-07 21:42:28 Uploading - Uploading generated training model\u001b[34m[2024-01-07 21:42:21.172 ip-10-0-211-240.ec2.internal:7 INFO utils.py:28] RULE_JOB_STOP_SIGNAL_FILENAME: None\u001b[0m\n",
                        "\u001b[34m[2024-01-07 21:42:21.194 ip-10-0-211-240.ec2.internal:7 INFO profiler_config_parser.py:111] User has disabled profiler.\u001b[0m\n",
                        "\u001b[34m[2024-01-07:21:42:21:INFO] Imported framework sagemaker_xgboost_container.training\u001b[0m\n",
                        "\u001b[34m[2024-01-07:21:42:21:INFO] Failed to parse hyperparameter objective value reg:squarederror to Json.\u001b[0m\n",
                        "\u001b[34mReturning the value itself\u001b[0m\n",
                        "\u001b[34m[2024-01-07:21:42:21:INFO] No GPUs detected (normal if no gpus installed)\u001b[0m\n",
                        "\u001b[34m[2024-01-07:21:42:21:INFO] Running XGBoost Sagemaker in algorithm mode\u001b[0m\n",
                        "\u001b[34m[2024-01-07:21:42:21:INFO] Determined 0 GPU(s) available on the instance.\u001b[0m\n",
                        "\u001b[34m[2024-01-07:21:42:21:INFO] Determined delimiter of CSV input is ','\u001b[0m\n",
                        "\u001b[34m[2024-01-07:21:42:21:INFO] Determined delimiter of CSV input is ','\u001b[0m\n",
                        "\u001b[34m[2024-01-07:21:42:21:INFO] File path /opt/ml/input/data/train of input files\u001b[0m\n",
                        "\u001b[34m[2024-01-07:21:42:21:INFO] Making smlinks from folder /opt/ml/input/data/train to folder /tmp/sagemaker_xgboost_input_data\u001b[0m\n",
                        "\u001b[34m[2024-01-07:21:42:21:INFO] creating symlink between Path /opt/ml/input/data/train/training_dataset.csv and destination /tmp/sagemaker_xgboost_input_data/training_dataset.csv2692796440305865542\u001b[0m\n",
                        "\u001b[34m[2024-01-07:21:42:21:INFO] files path: /tmp/sagemaker_xgboost_input_data\u001b[0m\n",
                        "\u001b[34m[2024-01-07:21:42:21:INFO] Determined delimiter of CSV input is ','\u001b[0m\n",
                        "\u001b[34m[2024-01-07:21:42:21:INFO] File path /opt/ml/input/data/validation of input files\u001b[0m\n",
                        "\u001b[34m[2024-01-07:21:42:21:INFO] Making smlinks from folder /opt/ml/input/data/validation to folder /tmp/sagemaker_xgboost_input_data\u001b[0m\n",
                        "\u001b[34m[2024-01-07:21:42:21:INFO] creating symlink between Path /opt/ml/input/data/validation/validation_dataset.csv and destination /tmp/sagemaker_xgboost_input_data/validation_dataset.csv4038295522279049591\u001b[0m\n",
                        "\u001b[34m[2024-01-07:21:42:21:INFO] files path: /tmp/sagemaker_xgboost_input_data\u001b[0m\n",
                        "\u001b[34m[2024-01-07:21:42:21:INFO] Determined delimiter of CSV input is ','\u001b[0m\n",
                        "\u001b[34m[2024-01-07:21:42:21:INFO] Single node training.\u001b[0m\n",
                        "\u001b[34m[2024-01-07:21:42:21:INFO] Train matrix has 455 rows and 12 columns\u001b[0m\n",
                        "\u001b[34m[2024-01-07:21:42:21:INFO] Validation matrix has 51 rows\u001b[0m\n",
                        "\u001b[34m[2024-01-07 21:42:21.648 ip-10-0-211-240.ec2.internal:7 INFO json_config.py:92] Creating hook from json_config at /opt/ml/input/config/debughookconfig.json.\u001b[0m\n",
                        "\u001b[34m[2024-01-07 21:42:21.648 ip-10-0-211-240.ec2.internal:7 INFO hook.py:206] tensorboard_dir has not been set for the hook. SMDebug will not be exporting tensorboard summaries.\u001b[0m\n",
                        "\u001b[34m[2024-01-07 21:42:21.649 ip-10-0-211-240.ec2.internal:7 INFO hook.py:259] Saving to /opt/ml/output/tensors\u001b[0m\n",
                        "\u001b[34m[2024-01-07 21:42:21.649 ip-10-0-211-240.ec2.internal:7 INFO state_store.py:77] The checkpoint config file /opt/ml/input/config/checkpointconfig.json does not exist.\u001b[0m\n",
                        "\u001b[34m[2024-01-07:21:42:21:INFO] Debug hook created from config\u001b[0m\n",
                        "\u001b[34m[0]#011train-rmse:19.48810#011validation-rmse:17.90527\u001b[0m\n",
                        "\u001b[34m[2024-01-07 21:42:21.653 ip-10-0-211-240.ec2.internal:7 INFO hook.py:427] Monitoring the collections: metrics\u001b[0m\n",
                        "\u001b[34m[2024-01-07 21:42:21.656 ip-10-0-211-240.ec2.internal:7 INFO hook.py:491] Hook is writing from the hook with pid: 7\u001b[0m\n",
                        "\u001b[34m[1]#011train-rmse:15.91459#011validation-rmse:14.50090\u001b[0m\n",
                        "\u001b[34m[2]#011train-rmse:13.05562#011validation-rmse:11.81821\u001b[0m\n",
                        "\u001b[34m[3]#011train-rmse:10.72584#011validation-rmse:9.65313\u001b[0m\n",
                        "\u001b[34m[4]#011train-rmse:8.95741#011validation-rmse:7.99210\u001b[0m\n",
                        "\u001b[34m[5]#011train-rmse:7.48073#011validation-rmse:6.98433\u001b[0m\n",
                        "\u001b[34m[6]#011train-rmse:6.30779#011validation-rmse:6.03341\u001b[0m\n",
                        "\u001b[34m[7]#011train-rmse:5.37492#011validation-rmse:5.42879\u001b[0m\n",
                        "\u001b[34m[8]#011train-rmse:4.64564#011validation-rmse:4.89431\u001b[0m\n",
                        "\u001b[34m[9]#011train-rmse:4.08845#011validation-rmse:4.58782\u001b[0m\n",
                        "\u001b[34m[10]#011train-rmse:3.59179#011validation-rmse:4.33461\u001b[0m\n",
                        "\u001b[34m[11]#011train-rmse:3.32048#011validation-rmse:4.15809\u001b[0m\n",
                        "\u001b[34m[12]#011train-rmse:3.04595#011validation-rmse:4.08666\u001b[0m\n",
                        "\u001b[34m[13]#011train-rmse:2.85399#011validation-rmse:4.00317\u001b[0m\n",
                        "\u001b[34m[14]#011train-rmse:2.65984#011validation-rmse:3.91096\u001b[0m\n",
                        "\u001b[34m[15]#011train-rmse:2.54023#011validation-rmse:3.87492\u001b[0m\n",
                        "\u001b[34m[16]#011train-rmse:2.45552#011validation-rmse:3.90052\u001b[0m\n",
                        "\u001b[34m[17]#011train-rmse:2.37179#011validation-rmse:3.90091\u001b[0m\n",
                        "\u001b[34m[18]#011train-rmse:2.31023#011validation-rmse:3.93718\u001b[0m\n",
                        "\u001b[34m[19]#011train-rmse:2.18677#011validation-rmse:3.90170\u001b[0m\n",
                        "\u001b[34m[20]#011train-rmse:2.11770#011validation-rmse:3.91745\u001b[0m\n",
                        "\u001b[34m[21]#011train-rmse:2.05817#011validation-rmse:3.93096\u001b[0m\n",
                        "\u001b[34m[22]#011train-rmse:2.00719#011validation-rmse:3.93074\u001b[0m\n",
                        "\u001b[34m[23]#011train-rmse:1.95314#011validation-rmse:3.97893\u001b[0m\n",
                        "\u001b[34m[24]#011train-rmse:1.93423#011validation-rmse:3.99045\u001b[0m\n",
                        "\u001b[34m[25]#011train-rmse:1.90814#011validation-rmse:4.00987\u001b[0m\n",
                        "\u001b[34m[26]#011train-rmse:1.85743#011validation-rmse:3.96197\u001b[0m\n",
                        "\u001b[34m[27]#011train-rmse:1.81138#011validation-rmse:3.98265\u001b[0m\n",
                        "\u001b[34m[28]#011train-rmse:1.78099#011validation-rmse:3.93730\u001b[0m\n",
                        "\u001b[34m[29]#011train-rmse:1.76504#011validation-rmse:3.93744\u001b[0m\n",
                        "\u001b[34m[30]#011train-rmse:1.71170#011validation-rmse:3.95968\u001b[0m\n",
                        "\u001b[34m[31]#011train-rmse:1.68707#011validation-rmse:3.93481\u001b[0m\n",
                        "\u001b[34m[32]#011train-rmse:1.67260#011validation-rmse:3.92165\u001b[0m\n",
                        "\u001b[34m[33]#011train-rmse:1.64206#011validation-rmse:3.86326\u001b[0m\n",
                        "\u001b[34m[34]#011train-rmse:1.61619#011validation-rmse:3.87769\u001b[0m\n",
                        "\u001b[34m[35]#011train-rmse:1.58527#011validation-rmse:3.85958\u001b[0m\n",
                        "\u001b[34m[36]#011train-rmse:1.56122#011validation-rmse:3.84459\u001b[0m\n",
                        "\u001b[34m[37]#011train-rmse:1.54457#011validation-rmse:3.83814\u001b[0m\n",
                        "\u001b[34m[38]#011train-rmse:1.52415#011validation-rmse:3.84753\u001b[0m\n",
                        "\u001b[34m[39]#011train-rmse:1.50879#011validation-rmse:3.85372\u001b[0m\n",
                        "\u001b[34m[40]#011train-rmse:1.48546#011validation-rmse:3.85554\u001b[0m\n",
                        "\u001b[34m[41]#011train-rmse:1.46324#011validation-rmse:3.84773\u001b[0m\n",
                        "\u001b[34m[42]#011train-rmse:1.44801#011validation-rmse:3.81625\u001b[0m\n",
                        "\u001b[34m[43]#011train-rmse:1.43728#011validation-rmse:3.78938\u001b[0m\n",
                        "\u001b[34m[44]#011train-rmse:1.42571#011validation-rmse:3.79573\u001b[0m\n",
                        "\u001b[34m[45]#011train-rmse:1.40242#011validation-rmse:3.80433\u001b[0m\n",
                        "\u001b[34m[46]#011train-rmse:1.38584#011validation-rmse:3.77376\u001b[0m\n",
                        "\u001b[34m[47]#011train-rmse:1.37340#011validation-rmse:3.73367\u001b[0m\n",
                        "\u001b[34m[48]#011train-rmse:1.34857#011validation-rmse:3.75703\u001b[0m\n",
                        "\u001b[34m[49]#011train-rmse:1.31051#011validation-rmse:3.79058\u001b[0m\n",
                        "\n",
                        "2024-01-07 21:42:41 Completed - Training job completed\n",
                        "Training seconds: 133\n",
                        "Billable seconds: 133\n"
                    ]
                }
            ],
            "source": [
                "ll_estimator.fit(ll_data)"
            ]
        },
        {
            "cell_type": "code",
            "execution_count": 11,
            "metadata": {
                "tags": []
            },
            "outputs": [
                {
                    "name": "stdout",
                    "output_type": "stream",
                    "text": [
                        "2024-01-07 21:42:22          0 boston-housing/output/sagemaker-xgboost-2024-01-07-21-39-03-222/debug-output/claim.smd\n",
                        "2024-01-07 21:42:23       6276 boston-housing/output/sagemaker-xgboost-2024-01-07-21-39-03-222/debug-output/collections/000000000/worker_0_collections.json\n",
                        "2024-01-07 21:42:22        218 boston-housing/output/sagemaker-xgboost-2024-01-07-21-39-03-222/debug-output/events/000000000000/000000000000_worker_0.tfevents\n",
                        "2024-01-07 21:42:22        224 boston-housing/output/sagemaker-xgboost-2024-01-07-21-39-03-222/debug-output/events/000000000010/000000000010_worker_0.tfevents\n",
                        "2024-01-07 21:42:22        224 boston-housing/output/sagemaker-xgboost-2024-01-07-21-39-03-222/debug-output/events/000000000020/000000000020_worker_0.tfevents\n",
                        "2024-01-07 21:42:23        224 boston-housing/output/sagemaker-xgboost-2024-01-07-21-39-03-222/debug-output/events/000000000030/000000000030_worker_0.tfevents\n",
                        "2024-01-07 21:42:22        224 boston-housing/output/sagemaker-xgboost-2024-01-07-21-39-03-222/debug-output/events/000000000040/000000000040_worker_0.tfevents\n",
                        "2024-01-07 21:42:22        287 boston-housing/output/sagemaker-xgboost-2024-01-07-21-39-03-222/debug-output/index/000000000/000000000000_worker_0.json\n",
                        "2024-01-07 21:42:22        288 boston-housing/output/sagemaker-xgboost-2024-01-07-21-39-03-222/debug-output/index/000000000/000000000010_worker_0.json\n",
                        "2024-01-07 21:42:22        288 boston-housing/output/sagemaker-xgboost-2024-01-07-21-39-03-222/debug-output/index/000000000/000000000020_worker_0.json\n",
                        "2024-01-07 21:42:22        288 boston-housing/output/sagemaker-xgboost-2024-01-07-21-39-03-222/debug-output/index/000000000/000000000030_worker_0.json\n",
                        "2024-01-07 21:42:22        288 boston-housing/output/sagemaker-xgboost-2024-01-07-21-39-03-222/debug-output/index/000000000/000000000040_worker_0.json\n",
                        "2024-01-07 21:42:37          0 boston-housing/output/sagemaker-xgboost-2024-01-07-21-39-03-222/debug-output/training_job_end.ts\n",
                        "2024-01-07 21:42:36      19255 boston-housing/output/sagemaker-xgboost-2024-01-07-21-39-03-222/output/model.tar.gz\n",
                        "2024-01-07 21:42:37          0 boston-housing/output/sagemaker-xgboost-2024-01-07-21-39-03-222/profiler-output/framework/training_job_end.ts\n",
                        "2024-01-07 21:42:01      77150 boston-housing/output/sagemaker-xgboost-2024-01-07-21-39-03-222/profiler-output/system/incremental/2024010721/1704663600.algo-1.json\n",
                        "2024-01-07 21:42:00     183914 boston-housing/output/sagemaker-xgboost-2024-01-07-21-39-03-222/profiler-output/system/incremental/2024010721/1704663660.algo-1.json\n",
                        "2024-01-07 21:42:33      99683 boston-housing/output/sagemaker-xgboost-2024-01-07-21-39-03-222/profiler-output/system/incremental/2024010721/1704663720.algo-1.json\n",
                        "2024-01-07 21:42:37          0 boston-housing/output/sagemaker-xgboost-2024-01-07-21-39-03-222/profiler-output/system/training_job_end.ts\n"
                    ]
                }
            ],
            "source": [
                "%%bash -s \"$ll_estimator.output_path\"\n",
                "aws s3 ls --recursive $1"
            ]
        },
        {
            "cell_type": "code",
            "execution_count": 12,
            "metadata": {
                "tags": []
            },
            "outputs": [
                {
                    "name": "stdout",
                    "output_type": "stream",
                    "text": [
                        "xgboost-learner-demo-07-21-43-18\n"
                    ]
                }
            ],
            "source": [
                "from time import strftime, gmtime\n",
                "\n",
                "timestamp = strftime(\"%d-%H-%M-%S\", gmtime())\n",
                "\n",
                "endpoint_name = \"xgboost-demo-\" + timestamp\n",
                "print(endpoint_name)"
            ]
        },
        {
            "cell_type": "code",
            "execution_count": 13,
            "metadata": {
                "tags": []
            },
            "outputs": [
                {
                    "name": "stderr",
                    "output_type": "stream",
                    "text": [
                        "INFO:sagemaker:Creating model with name: sagemaker-xgboost-2024-01-07-21-43-18-335\n",
                        "INFO:sagemaker:Creating endpoint-config with name xgboost-learner-demo-07-21-43-18\n",
                        "INFO:sagemaker:Creating endpoint with name xgboost-learner-demo-07-21-43-18\n"
                    ]
                },
                {
                    "name": "stdout",
                    "output_type": "stream",
                    "text": [
                        "--------!"
                    ]
                }
            ],
            "source": [
                "ll_predictor = ll_estimator.deploy(\n",
                "    endpoint_name=endpoint_name, initial_instance_count=1, instance_type=\"ml.t2.medium\"\n",
                ")"
            ]
        },
        {
            "cell_type": "code",
            "execution_count": 14,
            "metadata": {
                "tags": []
            },
            "outputs": [],
            "source": [
                "test_sample = \"0.00632,18.00,2.310,0,0.5380,6.5750,65.20,4.0900,1,296.0,15.30,4.98\""
            ]
        },
        {
            "cell_type": "code",
            "execution_count": 15,
            "metadata": {
                "tags": []
            },
            "outputs": [
                {
                    "name": "stdout",
                    "output_type": "stream",
                    "text": [
                        "[['24.39341926574707']]\n"
                    ]
                }
            ],
            "source": [
                "# ll_predictor.content_type = 'text/csv'\n",
                "ll_predictor.serializer = sagemaker.serializers.CSVSerializer()\n",
                "ll_predictor.deserializer = sagemaker.deserializers.CSVDeserializer()\n",
                "\n",
                "response = ll_predictor.predict(test_sample)\n",
                "print(response)"
            ]
        },
        {
            "cell_type": "code",
            "execution_count": 16,
            "metadata": {
                "tags": []
            },
            "outputs": [
                {
                    "name": "stdout",
                    "output_type": "stream",
                    "text": [
                        "[['24.39341926574707'], ['22.241615295410156']]\n",
                        "xgboost-learner-demo-07-21-43-18\n"
                    ]
                }
            ],
            "source": [
                "test_samples = [\n",
                "    \"0.00632,18.00,2.310,0,0.5380,6.5750,65.20,4.0900,1,296.0,15.30,4.98\",\n",
                "    \"0.02731,0.00,7.070,0,0.4690,6.4210,78.90,4.9671,2,242.0,17.80,9.14\",\n",
                "]\n",
                "\n",
                "response = ll_predictor.predict(test_samples)\n",
                "print(response)\n",
                "print(ll_predictor.endpoint_name)"
            ]
        },
        {
            "cell_type": "code",
            "execution_count": 17,
            "metadata": {
                "tags": []
            },
            "outputs": [
                {
                    "name": "stderr",
                    "output_type": "stream",
                    "text": [
                        "INFO:botocore.credentials:Found credentials from IAM Role: BaseNotebookInstanceEc2InstanceRole\n"
                    ]
                },
                {
                    "name": "stdout",
                    "output_type": "stream",
                    "text": [
                        "b'24.39341926574707\\n'\n"
                    ]
                }
            ],
            "source": [
                "runtime = boto3.Session().client(service_name=\"runtime.sagemaker\")\n",
                "\n",
                "response = runtime.invoke_endpoint(\n",
                "    EndpointName=endpoint_name, ContentType=\"text/csv\", Body=test_sample\n",
                ")\n",
                "\n",
                "print(response[\"Body\"].read())"
            ]
        },
        {
            "cell_type": "code",
            "execution_count": 18,
            "metadata": {
                "tags": []
            },
            "outputs": [
                {
                    "name": "stderr",
                    "output_type": "stream",
                    "text": [
                        "INFO:sagemaker:Deleting endpoint configuration with name: xgboost-learner-demo-07-21-43-18\n",
                        "INFO:sagemaker:Deleting endpoint with name: xgboost-learner-demo-07-21-43-18\n"
                    ]
                }
            ],
            "source": [
                "ll_predictor.delete_endpoint()"
            ]
        }
    ],
    "metadata": {
        "kernelspec": {
            "display_name": "conda_tensorflow2_p310",
            "language": "python",
            "name": "conda_tensorflow2_p310"
        },
        "language_info": {
            "codemirror_mode": {
                "name": "ipython",
                "version": 3
            },
            "file_extension": ".py",
            "mimetype": "text/x-python",
            "name": "python",
            "nbconvert_exporter": "python",
            "pygments_lexer": "ipython3",
            "version": "3.10.13"
        }
    },
    "nbformat": 4,
    "nbformat_minor": 4
}