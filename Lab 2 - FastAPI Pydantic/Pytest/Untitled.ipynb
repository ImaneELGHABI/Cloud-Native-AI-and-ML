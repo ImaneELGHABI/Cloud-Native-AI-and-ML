{
 "cells": [
  {
   "cell_type": "code",
   "execution_count": 1,
   "id": "1a7080f1",
   "metadata": {},
   "outputs": [
    {
     "name": "stdout",
     "output_type": "stream",
     "text": [
      "Writing my_module.py\n"
     ]
    }
   ],
   "source": [
    "%%writefile my_module.py\n",
    "\n",
    "def square(x):\n",
    "    return x**2"
   ]
  },
  {
   "cell_type": "code",
   "execution_count": 12,
   "id": "f5819f93",
   "metadata": {},
   "outputs": [
    {
     "name": "stdout",
     "output_type": "stream",
     "text": [
      "Overwriting test_my_module.py\n"
     ]
    }
   ],
   "source": [
    "%%writefile test_my_module.py\n",
    "\n",
    "from my_module import square\n",
    "import pytest\n",
    "\n",
    "@pytest.fixture\n",
    "\n",
    "def input_value():\n",
    "    return 4\n",
    "\n",
    "def test_square_gives_correct_value():\n",
    "    \n",
    "    subject=square(input_value)\n",
    "    \n",
    "    assert subject==16"
   ]
  },
  {
   "cell_type": "code",
   "execution_count": 10,
   "id": "df9a1042",
   "metadata": {},
   "outputs": [
    {
     "name": "stdout",
     "output_type": "stream",
     "text": [
      "Writing test_my_module_again.py\n"
     ]
    }
   ],
   "source": [
    "%%writefile test_my_module_again.py\n",
    "\n",
    "from my_module import square\n",
    "import pytest\n",
    "@pytest.fixture\n",
    "def input_value():\n",
    "    return 4\n",
    "def test_square_return_int(input_value):\n",
    "    subject = square(input_value)\n",
    "    assert isinstance(subject,int)\n"
   ]
  },
  {
   "cell_type": "code",
   "execution_count": 5,
   "id": "c14bc42e",
   "metadata": {},
   "outputs": [
    {
     "name": "stdout",
     "output_type": "stream",
     "text": [
      "Requirement already satisfied: pytest in c:\\users\\dell\\anaconda3\\lib\\site-packages (6.2.5)\n",
      "Requirement already satisfied: pluggy<2.0,>=0.12 in c:\\users\\dell\\anaconda3\\lib\\site-packages (from pytest) (1.3.0)\n",
      "Requirement already satisfied: attrs>=19.2.0 in c:\\users\\dell\\anaconda3\\lib\\site-packages (from pytest) (21.4.0)\n",
      "Requirement already satisfied: packaging in c:\\users\\dell\\anaconda3\\lib\\site-packages (from pytest) (23.2)\n",
      "Requirement already satisfied: toml in c:\\users\\dell\\anaconda3\\lib\\site-packages (from pytest) (0.10.2)\n",
      "Requirement already satisfied: iniconfig in c:\\users\\dell\\anaconda3\\lib\\site-packages (from pytest) (1.1.1)\n",
      "Requirement already satisfied: colorama in c:\\users\\dell\\anaconda3\\lib\\site-packages (from pytest) (0.4.6)\n",
      "Requirement already satisfied: atomicwrites>=1.0 in c:\\users\\dell\\anaconda3\\lib\\site-packages (from pytest) (1.4.0)\n",
      "Requirement already satisfied: py>=1.8.2 in c:\\users\\dell\\anaconda3\\lib\\site-packages (from pytest) (1.11.0)\n"
     ]
    },
    {
     "name": "stderr",
     "output_type": "stream",
     "text": [
      "WARNING: Ignoring invalid distribution -yproj (c:\\users\\dell\\anaconda3\\lib\\site-packages)\n",
      "WARNING: Ignoring invalid distribution -umpy (c:\\users\\dell\\anaconda3\\lib\\site-packages)\n",
      "WARNING: Ignoring invalid distribution -yproj (c:\\users\\dell\\anaconda3\\lib\\site-packages)\n",
      "WARNING: Ignoring invalid distribution -umpy (c:\\users\\dell\\anaconda3\\lib\\site-packages)\n",
      "WARNING: Ignoring invalid distribution -yproj (c:\\users\\dell\\anaconda3\\lib\\site-packages)\n",
      "WARNING: Ignoring invalid distribution -umpy (c:\\users\\dell\\anaconda3\\lib\\site-packages)\n",
      "WARNING: Ignoring invalid distribution -yproj (c:\\users\\dell\\anaconda3\\lib\\site-packages)\n",
      "WARNING: Ignoring invalid distribution -umpy (c:\\users\\dell\\anaconda3\\lib\\site-packages)\n",
      "WARNING: Ignoring invalid distribution -yproj (c:\\users\\dell\\anaconda3\\lib\\site-packages)\n",
      "WARNING: Ignoring invalid distribution -umpy (c:\\users\\dell\\anaconda3\\lib\\site-packages)\n",
      "WARNING: Ignoring invalid distribution -yproj (c:\\users\\dell\\anaconda3\\lib\\site-packages)\n",
      "WARNING: Ignoring invalid distribution -umpy (c:\\users\\dell\\anaconda3\\lib\\site-packages)\n"
     ]
    }
   ],
   "source": [
    "!pip install pytest"
   ]
  },
  {
   "cell_type": "code",
   "execution_count": 13,
   "id": "958ad111",
   "metadata": {
    "scrolled": true
   },
   "outputs": [
    {
     "name": "stdout",
     "output_type": "stream",
     "text": [
      "============================= test session starts =============================\n",
      "platform win32 -- Python 3.9.7, pytest-6.2.5, py-1.11.0, pluggy-1.3.0\n",
      "Matplotlib: 3.5.1\n",
      "Freetype: 2.10.4\n",
      "rootdir: C:\\Users\\dell\\Documents\\S3-QFM\\Kelloubi\\Lab2\\Lab folder - FastAPI Pydantic\\Pytest\n",
      "plugins: anyio-3.5.0, dash-2.10.0, mpl-0.16.1, typeguard-2.13.3\n",
      "collected 2 items\n",
      "\n",
      "test_my_module.py F                                                      [ 50%]\n",
      "test_my_module_again.py .                                                [100%]\n",
      "\n",
      "================================== FAILURES ===================================\n",
      "_______________________ test_square_gives_correct_value _______________________\n",
      "\n",
      "    def test_square_gives_correct_value():\n",
      "    \n",
      ">       subject=square(input_value)\n",
      "\n",
      "test_my_module.py:12: \n",
      "_ _ _ _ _ _ _ _ _ _ _ _ _ _ _ _ _ _ _ _ _ _ _ _ _ _ _ _ _ _ _ _ _ _ _ _ _ _ _ _\n",
      "\n",
      "x = <function input_value at 0x000001B37E855430>\n",
      "\n",
      "    def square(x):\n",
      ">       return x**2\n",
      "E       TypeError: unsupported operand type(s) for ** or pow(): 'function' and 'int'\n",
      "\n",
      "my_module.py:3: TypeError\n",
      "============================== warnings summary ===============================\n",
      "..\\..\\..\\..\\..\\..\\anaconda3\\lib\\site-packages\\pyreadline\\py3k_compat.py:8\n",
      "  C:\\Users\\dell\\anaconda3\\lib\\site-packages\\pyreadline\\py3k_compat.py:8: DeprecationWarning: Using or importing the ABCs from 'collections' instead of from 'collections.abc' is deprecated since Python 3.3, and in 3.10 it will stop working\n",
      "    return isinstance(x, collections.Callable)\n",
      "\n",
      "-- Docs: https://docs.pytest.org/en/stable/warnings.html\n"
     ]
    },
    {
     "name": "stderr",
     "output_type": "stream",
     "text": [
      "C:\\Users\\dell\\anaconda3\\lib\\site-packages\\numpy\\_distributor_init.py:30: UserWarning: loaded more than 1 DLL from .libs:\n",
      "C:\\Users\\dell\\anaconda3\\lib\\site-packages\\numpy\\.libs\\libopenblas.GK7GX5KEQ4F6UYO3P26ULGBQYHGQO7J4.gfortran-win_amd64.dll\n",
      "C:\\Users\\dell\\anaconda3\\lib\\site-packages\\numpy\\.libs\\libopenblas.WCDJNK7YVMPZQ2ME2ZZHJJRJ3JIKNDB7.gfortran-win_amd64.dll\n",
      "  warnings.warn(\"loaded more than 1 DLL from .libs:\"\n"
     ]
    },
    {
     "name": "stdout",
     "output_type": "stream",
     "text": [
      "=========================== short test summary info ===========================\n",
      "FAILED test_my_module.py::test_square_gives_correct_value - TypeError: unsupp...\n",
      "=================== 1 failed, 1 passed, 1 warning in 0.46s ====================\n"
     ]
    }
   ],
   "source": [
    "!pytest "
   ]
  },
  {
   "cell_type": "code",
   "execution_count": 26,
   "id": "e9ef4357",
   "metadata": {},
   "outputs": [
    {
     "name": "stdout",
     "output_type": "stream",
     "text": [
      "Overwriting conftest.py\n"
     ]
    }
   ],
   "source": [
    "%%writefile conftest.py\n",
    "\n",
    "import pytest\n",
    "@pytest.fixture\n",
    "def input_value():\n",
    "    return 4\n"
   ]
  },
  {
   "cell_type": "code",
   "execution_count": 15,
   "id": "13baf64a",
   "metadata": {},
   "outputs": [
    {
     "name": "stdout",
     "output_type": "stream",
     "text": [
      "Requirement already satisfied: pydantic in c:\\users\\dell\\anaconda3\\lib\\site-packages (1.8.2)\n",
      "Requirement already satisfied: typing-extensions>=3.7.4.3 in c:\\users\\dell\\anaconda3\\lib\\site-packages (from pydantic) (4.5.0)\n",
      "Note: you may need to restart the kernel to use updated packages.\n"
     ]
    },
    {
     "name": "stderr",
     "output_type": "stream",
     "text": [
      "WARNING: Ignoring invalid distribution -yproj (c:\\users\\dell\\anaconda3\\lib\\site-packages)\n",
      "WARNING: Ignoring invalid distribution -umpy (c:\\users\\dell\\anaconda3\\lib\\site-packages)\n",
      "WARNING: Ignoring invalid distribution -yproj (c:\\users\\dell\\anaconda3\\lib\\site-packages)\n",
      "WARNING: Ignoring invalid distribution -umpy (c:\\users\\dell\\anaconda3\\lib\\site-packages)\n",
      "WARNING: Ignoring invalid distribution -yproj (c:\\users\\dell\\anaconda3\\lib\\site-packages)\n",
      "WARNING: Ignoring invalid distribution -umpy (c:\\users\\dell\\anaconda3\\lib\\site-packages)\n",
      "WARNING: Ignoring invalid distribution -yproj (c:\\users\\dell\\anaconda3\\lib\\site-packages)\n",
      "WARNING: Ignoring invalid distribution -umpy (c:\\users\\dell\\anaconda3\\lib\\site-packages)\n",
      "WARNING: Ignoring invalid distribution -yproj (c:\\users\\dell\\anaconda3\\lib\\site-packages)\n",
      "WARNING: Ignoring invalid distribution -umpy (c:\\users\\dell\\anaconda3\\lib\\site-packages)\n",
      "WARNING: Ignoring invalid distribution -yproj (c:\\users\\dell\\anaconda3\\lib\\site-packages)\n",
      "WARNING: Ignoring invalid distribution -umpy (c:\\users\\dell\\anaconda3\\lib\\site-packages)\n"
     ]
    }
   ],
   "source": [
    "pip install pydantic"
   ]
  },
  {
   "cell_type": "code",
   "execution_count": 19,
   "id": "8e83a526",
   "metadata": {},
   "outputs": [
    {
     "name": "stdout",
     "output_type": "stream",
     "text": [
      "name='Samuel Colvin' username='scolvin' password1='zxcvbn' password2='zxcvbn'\n",
      "2 validation errors for UserModel\n",
      "name\n",
      "  must contain a space (type=value_error)\n",
      "password2\n",
      "  passwords do not match (type=value_error)\n"
     ]
    }
   ],
   "source": [
    "from pydantic import BaseModel, ValidationError, validator\n",
    "class UserModel(BaseModel):\n",
    "     name: str\n",
    "     username: str\n",
    "     password1: str\n",
    "     password2: str\n",
    "     @validator('name')\n",
    "     def name_must_contain_space(cls, v):\n",
    "         if ' ' not in v:\n",
    "             raise ValueError('must contain a space')\n",
    "         return v.title()\n",
    "     @validator('password2')\n",
    "     def passwords_match(cls, v, values, **kwargs):\n",
    "         if 'password1' in values and v != values['password1']:\n",
    "             raise ValueError('passwords do not match')\n",
    "         return v\n",
    "     @validator('username')\n",
    "     def username_alphanumeric(cls, v):\n",
    "         assert v.isalnum(), 'must be alphanumeric'\n",
    "         return v\n",
    "user = UserModel(\n",
    " name='samuel colvin',\n",
    " username='scolvin',\n",
    " password1='zxcvbn',\n",
    " password2='zxcvbn',\n",
    ")\n",
    "print(user)\n",
    "try:\n",
    " UserModel(\n",
    " name='samuel',\n",
    " username='scolvin',\n",
    " password1='zxcvbn',\n",
    " password2='zxcvbn2',\n",
    " )\n",
    "except ValidationError as e:\n",
    " print(e)\n",
    "\n"
   ]
  },
  {
   "cell_type": "code",
   "execution_count": 22,
   "id": "8c70dd41",
   "metadata": {},
   "outputs": [
    {
     "name": "stdout",
     "output_type": "stream",
     "text": [
      "Overwriting test_my_module_again.py\n"
     ]
    }
   ],
   "source": [
    "%%writefile test_my_module_again.py\n",
    "\n",
    "from my_module import square\n",
    "import pytest\n",
    "@pytest.mark.parametrize(\n",
    "'inputs', [\n",
    "2,3,4]\n",
    ")\n",
    "def test_square_return_int(inputs):\n",
    "    subject = square(inputs)\n",
    "    assert isinstance(subject,int)\n"
   ]
  },
  {
   "cell_type": "code",
   "execution_count": 27,
   "id": "10ae3718",
   "metadata": {},
   "outputs": [
    {
     "name": "stdout",
     "output_type": "stream",
     "text": [
      "============================= test session starts =============================\n",
      "platform win32 -- Python 3.9.7, pytest-6.2.5, py-1.11.0, pluggy-1.3.0\n",
      "Matplotlib: 3.5.1\n"
     ]
    },
    {
     "name": "stderr",
     "output_type": "stream",
     "text": [
      "C:\\Users\\dell\\anaconda3\\lib\\site-packages\\numpy\\_distributor_init.py:30: UserWarning: loaded more than 1 DLL from .libs:\n",
      "C:\\Users\\dell\\anaconda3\\lib\\site-packages\\numpy\\.libs\\libopenblas.GK7GX5KEQ4F6UYO3P26ULGBQYHGQO7J4.gfortran-win_amd64.dll\n",
      "C:\\Users\\dell\\anaconda3\\lib\\site-packages\\numpy\\.libs\\libopenblas.WCDJNK7YVMPZQ2ME2ZZHJJRJ3JIKNDB7.gfortran-win_amd64.dll\n",
      "  warnings.warn(\"loaded more than 1 DLL from .libs:\"\n"
     ]
    },
    {
     "name": "stdout",
     "output_type": "stream",
     "text": [
      "Freetype: 2.10.4\n",
      "rootdir: C:\\Users\\dell\\Documents\\S3-QFM\\Kelloubi\\Lab2\\Lab folder - FastAPI Pydantic\\Pytest\n",
      "plugins: anyio-3.5.0, dash-2.10.0, mpl-0.16.1, typeguard-2.13.3\n",
      "collected 4 items\n",
      "\n",
      "test_my_module.py F                                                      [ 25%]\n",
      "test_my_module_again.py ...                                              [100%]\n",
      "\n",
      "================================== FAILURES ===================================\n",
      "_______________________ test_square_gives_correct_value _______________________\n",
      "\n",
      "    def test_square_gives_correct_value():\n",
      "    \n",
      ">       subject=square(input_value)\n",
      "\n",
      "test_my_module.py:12: \n",
      "_ _ _ _ _ _ _ _ _ _ _ _ _ _ _ _ _ _ _ _ _ _ _ _ _ _ _ _ _ _ _ _ _ _ _ _ _ _ _ _\n",
      "\n",
      "x = <function input_value at 0x0000015EE3D7D820>\n",
      "\n",
      "    def square(x):\n",
      ">       return x**2\n",
      "E       TypeError: unsupported operand type(s) for ** or pow(): 'function' and 'int'\n",
      "\n",
      "my_module.py:3: TypeError\n",
      "============================== warnings summary ===============================\n",
      "..\\..\\..\\..\\..\\..\\anaconda3\\lib\\site-packages\\pyreadline\\py3k_compat.py:8\n",
      "  C:\\Users\\dell\\anaconda3\\lib\\site-packages\\pyreadline\\py3k_compat.py:8: DeprecationWarning: Using or importing the ABCs from 'collections' instead of from 'collections.abc' is deprecated since Python 3.3, and in 3.10 it will stop working\n",
      "    return isinstance(x, collections.Callable)\n",
      "\n",
      "-- Docs: https://docs.pytest.org/en/stable/warnings.html\n",
      "=========================== short test summary info ===========================\n",
      "FAILED test_my_module.py::test_square_gives_correct_value - TypeError: unsupp...\n",
      "=================== 1 failed, 3 passed, 1 warning in 0.51s ====================\n"
     ]
    }
   ],
   "source": [
    "!pytest\n"
   ]
  }
 ],
 "metadata": {
  "kernelspec": {
   "display_name": "Python 3 (ipykernel)",
   "language": "python",
   "name": "python3"
  },
  "language_info": {
   "codemirror_mode": {
    "name": "ipython",
    "version": 3
   },
   "file_extension": ".py",
   "mimetype": "text/x-python",
   "name": "python",
   "nbconvert_exporter": "python",
   "pygments_lexer": "ipython3",
   "version": "3.9.7"
  }
 },
 "nbformat": 4,
 "nbformat_minor": 5
}
